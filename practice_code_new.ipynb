{
 "cells": [
  {
   "cell_type": "markdown",
   "metadata": {},
   "source": [
    "# Package 설치 확인\n",
    "1. !pip list 실행\n",
    "2. pandas, matplotlib 확인\n",
    "3. 없을 경우 아래코드를 실행하여 설치\n",
    "\n",
    "``` \n",
    "import sys\n",
    "!{sys.executable} -m pip install pandas matplotlib\n",
    "```\n",
    "4. !pip list 실행하여 다시 확인"
   ]
  },
  {
   "cell_type": "code",
   "execution_count": null,
   "metadata": {},
   "outputs": [],
   "source": [
    "!pip list"
   ]
  },
  {
   "cell_type": "code",
   "execution_count": null,
   "metadata": {},
   "outputs": [],
   "source": [
    "# import sys\n",
    "# !{sys.executable} -m pip install pandas matplotlib"
   ]
  },
  {
   "cell_type": "code",
   "execution_count": null,
   "metadata": {},
   "outputs": [],
   "source": [
    "import pandas as pd\n",
    "import numpy as np\n",
    "import matplotlib.pyplot as plt"
   ]
  },
  {
   "cell_type": "markdown",
   "metadata": {},
   "source": [
    "# 0. Create DataFrame\n",
    "        \n",
    "``` \n",
    "df = pd.DataFrame(\n",
    "    { \n",
    "    'column_1': [1, 2, 3, 4],\n",
    "    'column_2': ['a', 'b', 'c', 'd'],\n",
    "    'column_3': [True, True, False, False]\n",
    "    })\n",
    "```"
   ]
  },
  {
   "cell_type": "code",
   "execution_count": null,
   "metadata": {},
   "outputs": [],
   "source": [
    "# 0. Create DataFrame\n",
    "my_inform = pd.DataFrame(\n",
    "    { \n",
    "    'class_code': ['class_1', 'c|lass_2', 'class_3', 'class_4', 'class_5', 'class_6', 'class_7', 'class_8', 'class_9', 'class_10'],\n",
    "    'class_name': ['korean', 'math', 'english', 'computer', 'chinese', 'stat', 'music', 'art', 'python', 'java'],\n",
    "    'score_1': [100, 70, 50, 65, 100, 20, 60, 90, 85, 90],\n",
    "    'score_2': [100, 80, 40, 95, 50, 30, 70, 45, 95, 40],\n",
    "    'total_score': ['A+', 'B+', 'C+', 'B+', 'B+', 'C0', 'B0', 'B0', 'A+', 'B0']\n",
    "    })\n",
    "\n",
    "my_inform"
   ]
  },
  {
   "cell_type": "markdown",
   "metadata": {},
   "source": [
    "# 1. subset\n",
    "### 데이터프레임에서 특정 Row 혹은 특정 Column을 선택하는 것\n",
    "\n",
    "### 1-1 Row 선택\n",
    "* column이 x보다 클 경우: df[df.column > x]\n",
    "* column이 x보다 작을 경우: df[df.column < x]\n",
    "* column이 x보다 크거나 같을 경우: df[df.column >= x]\n",
    "* column이 x보다 작거나 같을 경우: df[df.column <= x]\n",
    "* column이 x와 같을 경우: df[df.column == x]\n",
    "* column이 x가 아닐 경우: df[df.column != x]\n",
    "* column이 x보다 크고 y보다 작을 경우: df[(df.column) > x & (df.column) < y]\n",
    "* column이 x보다 크거나 y보다 작을 경우: df[(df.column) > x | (df.column) < y]"
   ]
  },
  {
   "cell_type": "code",
   "execution_count": null,
   "metadata": {
    "scrolled": true
   },
   "outputs": [],
   "source": [
    "# total_score가 B+인 경우\n",
    "my_inform[my_inform.total_score == 'B+']"
   ]
  },
  {
   "cell_type": "code",
   "execution_count": null,
   "metadata": {},
   "outputs": [],
   "source": [
    "# score_1이 50보다 크고 score_2가 50보다 작을 경우\n",
    "my_inform[(my_inform.score_1 >= 50) & (my_inform.score_2 <= 50)]"
   ]
  },
  {
   "cell_type": "code",
   "execution_count": null,
   "metadata": {},
   "outputs": [],
   "source": [
    "# score_1이 80보다 크거나 score_1이 20보다 작을 경우\n",
    "my_inform[(my_inform.score_1 >= 80) | (my_inform.score_1 <= 20)]"
   ]
  },
  {
   "cell_type": "markdown",
   "metadata": {},
   "source": [
    "## 예제 1: class_name이 python, korean인 데이터를 가져오세요"
   ]
  },
  {
   "cell_type": "code",
   "execution_count": null,
   "metadata": {},
   "outputs": [],
   "source": [
    "# Your Code"
   ]
  },
  {
   "cell_type": "markdown",
   "metadata": {},
   "source": [
    "## 예제 2: Total Score 가 B0 이고, score_2가 50 미만인 데이터를 가져오세요"
   ]
  },
  {
   "cell_type": "code",
   "execution_count": null,
   "metadata": {},
   "outputs": [],
   "source": [
    "# your Code"
   ]
  },
  {
   "cell_type": "markdown",
   "metadata": {},
   "source": [
    "### 1-2 Column 선택\n",
    "```\n",
    "df['column']\n",
    "df[['column_1', 'column_2']]\n",
    "```"
   ]
  },
  {
   "cell_type": "code",
   "execution_count": null,
   "metadata": {
    "scrolled": false
   },
   "outputs": [],
   "source": [
    "my_inform['class_name']"
   ]
  },
  {
   "cell_type": "code",
   "execution_count": null,
   "metadata": {
    "scrolled": true
   },
   "outputs": [],
   "source": [
    "my_inform[['class_name', 'total_score']]"
   ]
  },
  {
   "cell_type": "markdown",
   "metadata": {},
   "source": [
    "## 예제 3: score_1가 80이상인 데이터 중 name과 total_score만 가져오세요\n",
    "\n",
    "### Hint\n",
    "* Column을 먼저 선택하고 Row를 나중에 선택합니다.\n",
    "* 구글링: selecting by column and row in pandas 검색결과 중 Stack Overflow 사이트 찾기\n"
   ]
  },
  {
   "cell_type": "code",
   "execution_count": null,
   "metadata": {},
   "outputs": [],
   "source": [
    "# your code"
   ]
  },
  {
   "cell_type": "markdown",
   "metadata": {},
   "source": [
    "### 1-3 특정 위치 선택\n",
    "\n",
    "* df.iloc[row, column]\n",
    "* df.iloc[x:y, column]\n",
    "* df.iloc[row, x:y]\n",
    "* 'x:y' 표시는 x <= 선택 셀 < y 을 의미 \n",
    "\n",
    "```\n",
    "df.iloc[0, 1] \n",
    "df.iloc[0:1, :] \n",
    "df.iloc[:, 0:2]\n",
    "```"
   ]
  },
  {
   "cell_type": "code",
   "execution_count": null,
   "metadata": {},
   "outputs": [],
   "source": [
    "my_inform.iloc[0, 1]"
   ]
  },
  {
   "cell_type": "code",
   "execution_count": null,
   "metadata": {},
   "outputs": [],
   "source": [
    "my_inform.iloc[0:2, :]"
   ]
  },
  {
   "cell_type": "code",
   "execution_count": null,
   "metadata": {},
   "outputs": [],
   "source": [
    "my_inform.iloc[:, 0:3]"
   ]
  },
  {
   "cell_type": "markdown",
   "metadata": {},
   "source": [
    "## 예제 4: row index가 1, 5 / column index가 2, 4인 데이터를 가져오세요.\n",
    "\n",
    "### Hint\n",
    "* indexing은 언제나 [ ] 를 사용합니다."
   ]
  },
  {
   "cell_type": "code",
   "execution_count": null,
   "metadata": {},
   "outputs": [],
   "source": [
    "# Your Code"
   ]
  },
  {
   "cell_type": "markdown",
   "metadata": {},
   "source": [
    "# 2. Make New Column & Row\n",
    "\n",
    "### 2-1 Column\n",
    "```\n",
    "df['new_column] = x\n",
    "df['new_column'] = df['a'] + df['b']\n",
    "df['new_column'] = df['a'] - df['b']\n",
    "df['new_column'] = df['a'] * df['b']\n",
    "df['new_column'] = df['a'] / df['b']\n",
    "```"
   ]
  },
  {
   "cell_type": "code",
   "execution_count": null,
   "metadata": {},
   "outputs": [],
   "source": [
    "my_inform['major'] = ['No', 'Yes','Yes', 'Yes', 'No', 'Yes', 'No', 'No', 'Yes', 'Yes']\n",
    "\n",
    "my_inform"
   ]
  },
  {
   "cell_type": "code",
   "execution_count": null,
   "metadata": {},
   "outputs": [],
   "source": [
    "my_inform['score_sum'] = my_inform['score_1'] + my_inform['score_2']\n",
    "my_inform"
   ]
  },
  {
   "cell_type": "markdown",
   "metadata": {},
   "source": [
    "* Column을 삭제하고 싶을 경우\n",
    "\n",
    "```\n",
    "df = df.drop(columns=['column_name'])\n",
    "\n",
    "```"
   ]
  },
  {
   "cell_type": "code",
   "execution_count": null,
   "metadata": {},
   "outputs": [],
   "source": [
    "my_inform = my_inform.drop(columns=['score_sum'])\n",
    "my_inform"
   ]
  },
  {
   "cell_type": "code",
   "execution_count": null,
   "metadata": {},
   "outputs": [],
   "source": [
    "my_inform['score_1 / score_2'] = my_inform['score_1'] / my_inform['score_2']\n",
    "my_inform"
   ]
  },
  {
   "cell_type": "code",
   "execution_count": null,
   "metadata": {
    "scrolled": true
   },
   "outputs": [],
   "source": [
    "my_inform = my_inform.drop(columns=['score_1 / score_2'])\n",
    "my_inform"
   ]
  },
  {
   "cell_type": "markdown",
   "metadata": {},
   "source": [
    "## 예제 5: score_1과 score_2의 평균 값인 'avg_score' column을 생성하세요\n"
   ]
  },
  {
   "cell_type": "code",
   "execution_count": null,
   "metadata": {},
   "outputs": [],
   "source": [
    "# your code"
   ]
  },
  {
   "cell_type": "markdown",
   "metadata": {},
   "source": [
    "### 2-2 Row"
   ]
  },
  {
   "cell_type": "code",
   "execution_count": null,
   "metadata": {
    "scrolled": false
   },
   "outputs": [],
   "source": [
    "my_inform = my_inform.append({\n",
    "    'class_code' : 'class_11', \n",
    "    'class_name' : 'kotlin',\n",
    "    'score_1': 65,\n",
    "    'score_2': 55,\n",
    "    'total_score': 'B+',\n",
    "    'major': 'Yes'\n",
    "    }, \n",
    "    ignore_index=True)\n",
    "\n",
    "my_inform"
   ]
  },
  {
   "cell_type": "markdown",
   "metadata": {},
   "source": [
    "# 3. Group by\n",
    "\n",
    "\n",
    "```\n",
    "df.groupby('column').mean()\n",
    "df.groupby('column').median()\n",
    "df.groupby('column').min()\n",
    "df.groupby('column').max()\n",
    "df.groupby('column').count()\n",
    "df.groupby('column').sum()\n",
    "df.groupby('column').quantile([0.25, 0.75])\n",
    "```\n"
   ]
  },
  {
   "cell_type": "code",
   "execution_count": null,
   "metadata": {},
   "outputs": [],
   "source": [
    "my_inform.groupby('total_score').mean()"
   ]
  },
  {
   "cell_type": "code",
   "execution_count": null,
   "metadata": {},
   "outputs": [],
   "source": [
    "my_inform.groupby('total_score')['score_1'].mean()"
   ]
  },
  {
   "cell_type": "code",
   "execution_count": null,
   "metadata": {},
   "outputs": [],
   "source": [
    "my_inform.groupby('total_score')['major'].count()"
   ]
  },
  {
   "cell_type": "code",
   "execution_count": null,
   "metadata": {},
   "outputs": [],
   "source": [
    "my_inform.groupby('major').describe()"
   ]
  },
  {
   "cell_type": "markdown",
   "metadata": {},
   "source": [
    "## 예제 6: major 별, total_score 별 score_1과 score_2의 평균을 의미하는 score_mean을 구하세요. "
   ]
  },
  {
   "cell_type": "code",
   "execution_count": null,
   "metadata": {},
   "outputs": [],
   "source": [
    "# Your Code"
   ]
  },
  {
   "cell_type": "markdown",
   "metadata": {},
   "source": [
    "# 4. Merge\n",
    "\n",
    "```\n",
    "```\n"
   ]
  },
  {
   "cell_type": "code",
   "execution_count": null,
   "metadata": {
    "scrolled": true
   },
   "outputs": [],
   "source": [
    "class_inform = pd.DataFrame(\n",
    "    {\n",
    "    'class_code': [\n",
    "        'class_1', 'class_2', 'class_3', 'class_4', 'class_5',\n",
    "        'class_6', 'class_7', 'class_8', 'class_9', 'class_10',\n",
    "        'class_11', 'class_12', 'class_13', 'class_14', 'class_15'\n",
    "            ],\n",
    "    'professor': [\n",
    "        'a', 'b', 'c', 'd', 'e',\n",
    "        'a', 'b', 'c', 'd', 'e',\n",
    "        'a', 'b', 'c', 'd', 'e'\n",
    "    ],\n",
    "    'total_student': [\n",
    "        35, 25, 21, 33, 29,\n",
    "        46, 74, 16, 37, 13,\n",
    "        75, 51, 32, 56, 31\n",
    "    ]\n",
    "    })\n",
    "\n",
    "class_inform"
   ]
  },
  {
   "cell_type": "code",
   "execution_count": null,
   "metadata": {},
   "outputs": [],
   "source": [
    "pd.merge(my_inform, class_inform)"
   ]
  },
  {
   "cell_type": "code",
   "execution_count": null,
   "metadata": {},
   "outputs": [],
   "source": [
    "pd.merge(my_inform, class_inform, how='left', on='class_code')"
   ]
  },
  {
   "cell_type": "code",
   "execution_count": null,
   "metadata": {},
   "outputs": [],
   "source": [
    "pd.merge(my_inform, class_inform, how='right', on='class_code')"
   ]
  },
  {
   "cell_type": "code",
   "execution_count": null,
   "metadata": {},
   "outputs": [],
   "source": [
    "pd.merge(my_inform, class_inform, how='inner', on='class_code')"
   ]
  },
  {
   "cell_type": "code",
   "execution_count": null,
   "metadata": {},
   "outputs": [],
   "source": [
    "pd.merge(my_inform, class_inform, how='outer', on='class_code')"
   ]
  },
  {
   "cell_type": "markdown",
   "metadata": {},
   "source": [
    "# 5. Sorting\n",
    "\n",
    "### 5-1 오름차순 정렬"
   ]
  },
  {
   "cell_type": "code",
   "execution_count": null,
   "metadata": {
    "scrolled": true
   },
   "outputs": [],
   "source": [
    "my_inform.sort_values('score_1')"
   ]
  },
  {
   "cell_type": "markdown",
   "metadata": {},
   "source": [
    "### 5-2 내림차순 정렬"
   ]
  },
  {
   "cell_type": "code",
   "execution_count": null,
   "metadata": {},
   "outputs": [],
   "source": [
    "my_inform.sort_values('score_2', ascending=False)"
   ]
  },
  {
   "cell_type": "markdown",
   "metadata": {},
   "source": [
    "### 5-3 두개 이상 컬럼을 기준으로 정렬"
   ]
  },
  {
   "cell_type": "code",
   "execution_count": null,
   "metadata": {},
   "outputs": [],
   "source": [
    "my_inform.sort_values(['score_1','score_2'])"
   ]
  },
  {
   "cell_type": "markdown",
   "metadata": {},
   "source": [
    "## 예제 7: major 기준으로 내림차순, total_score 기준으로는 오름차순으로 정렬하세요.\n",
    "\n",
    "### Hint\n",
    "* 정렬도 역시 [ ] 를 사용합니다 :)"
   ]
  },
  {
   "cell_type": "code",
   "execution_count": null,
   "metadata": {},
   "outputs": [],
   "source": [
    "# Your Code"
   ]
  },
  {
   "cell_type": "markdown",
   "metadata": {},
   "source": [
    "## 예제 8\n",
    "#### 1. my_inform과 class_inform을 활용하여 NaN값이 없도록 Merge 하세요.\n",
    "#### 2. merge한 데이터에서 'major'값은 'Yes'이고 total_student가 30명 이상인 데이터만 선택하세요.\n",
    "#### 3. 위의 결과 중 professor 별 score_1과 score_2의  평균 값을 각각 구해보세요. \n",
    "#### 4. merge한 데이터에서 score_2 와 score_1이 차이가 가장 큰 상위 두개 데이터를 가져오세요. "
   ]
  },
  {
   "cell_type": "code",
   "execution_count": null,
   "metadata": {},
   "outputs": [],
   "source": [
    "# 1\n",
    "merge_data = # your_code\n",
    "\n",
    "# 2 \n",
    "major_yes_total_30 = # your_code\n",
    "\n",
    "# 3\n",
    "avg_score_by_professor = # your_code\n",
    "\n",
    "# 4\n",
    "diff_top_2 = # your_code"
   ]
  },
  {
   "cell_type": "markdown",
   "metadata": {},
   "source": [
    "# 6. Plotting\n",
    "\n",
    "### 6-1 Line Chart\n",
    "\n",
    "```\n",
    "plt.plot(x, y)\n",
    "\n",
    "plt.show()\n",
    "```"
   ]
  },
  {
   "cell_type": "code",
   "execution_count": null,
   "metadata": {},
   "outputs": [],
   "source": [
    "popluation_df = pd.DataFrame({\n",
    "    'year': [1960, 1970, 1980, 1990, 2000, 2010],\n",
    "    'pop_pakistan': [44.91, 58.09, 78.07, 107.7, 138.5, 170.6],\n",
    "    'pop_india': [449.48, 553.57, 696.783, 870.133, 1000.4, 1309.1]\n",
    "})\n",
    "\n",
    "popluation_df"
   ]
  },
  {
   "cell_type": "code",
   "execution_count": null,
   "metadata": {},
   "outputs": [],
   "source": [
    "year = popluation_df['year']\n",
    "pop_pakistan = popluation_df['pop_pakistan']\n",
    "\n",
    "plt.plot(year, pop_pakistan)\n",
    "# plt.plot(?, ?)\n",
    "\n",
    "# x축 제목\n",
    "plt.xlabel('Year')\n",
    "\n",
    "# y축 제목\n",
    "plt.ylabel('Population in million')\n",
    "\n",
    "# 차트 제목\n",
    "plt.title('Population trend 1960 ~ 2010')\n",
    "\n",
    "plt.show()"
   ]
  },
  {
   "cell_type": "markdown",
   "metadata": {},
   "source": [
    "### 6-2 Bar Chart\n",
    "\n",
    "```\n",
    "plt.bar(x, y)\n",
    "plot.show()\n",
    "```"
   ]
  },
  {
   "cell_type": "code",
   "execution_count": null,
   "metadata": {},
   "outputs": [],
   "source": [
    "plt.bar(year, pop_pakistan)\n",
    "plt.show()"
   ]
  },
  {
   "cell_type": "markdown",
   "metadata": {},
   "source": [
    "### my_inform에서 total score 빈도를 차트로 표한하고 싶을 때 ?"
   ]
  },
  {
   "cell_type": "code",
   "execution_count": null,
   "metadata": {},
   "outputs": [],
   "source": [
    "# Your Code"
   ]
  },
  {
   "cell_type": "markdown",
   "metadata": {},
   "source": [
    "### 6-3 Pie Chart\n",
    "\n",
    "```\n",
    "plt.pie(value, labels='index')\n",
    "plt.show()\n",
    "```\n",
    "\n",
    "* pie chart는 카테고리 총 합이 1(100%)인 경우 적합"
   ]
  },
  {
   "cell_type": "code",
   "execution_count": null,
   "metadata": {},
   "outputs": [],
   "source": [
    "# 빈도를 비율로 변환 시켜주는 함수 value_counts(normalize=True)\n",
    "pie_chart_data = my_inform.total_score.value_counts(normalize=True)\n",
    "pie_chart_df = pd.DataFrame(pie_chart_data)\n",
    "pie_chart_df"
   ]
  },
  {
   "cell_type": "code",
   "execution_count": null,
   "metadata": {},
   "outputs": [],
   "source": [
    "plt.pie(pie_chart_df['total_score'], labels=pie_chart_df.index)\n",
    "\n",
    "plt.show()"
   ]
  },
  {
   "cell_type": "markdown",
   "metadata": {},
   "source": [
    "### 6-4 Scatter Plot\n",
    "\n",
    "```\n",
    "plt.scatter(x, y)\n",
    "plt.show()\n",
    "```"
   ]
  },
  {
   "cell_type": "code",
   "execution_count": null,
   "metadata": {},
   "outputs": [],
   "source": [
    "x = my_inform['score_1']\n",
    "y = my_inform['score_2']\n",
    "\n",
    "plt.scatter(x, y)\n",
    "plt.show()"
   ]
  },
  {
   "cell_type": "markdown",
   "metadata": {},
   "source": [
    "### 조금 어렵지만, scatter plot에 name 추가"
   ]
  },
  {
   "cell_type": "code",
   "execution_count": null,
   "metadata": {},
   "outputs": [],
   "source": [
    "# class name 저장\n",
    "names = my_inform['class_name']\n",
    "\n",
    "# 타츠 사이즈 설정 (x, y)\n",
    "plt.figure(figsize=(10,10))\n",
    "\n",
    "for i,name in enumerate(names):\n",
    "    # x: score_1의 위치\n",
    "    x_i = x[i]\n",
    "    \n",
    "    # y: score_2의 위치\n",
    "    y_i = y[i]\n",
    "    \n",
    "    # x_i, y_i를 그리고\n",
    "    plt.scatter(x_i, y_i)\n",
    "    \n",
    "    #  x_i 보다 2작고 y_i보다 1 큰 위치에 name을 그리기\n",
    "    plt.text(x_i-2, y_i+1, name)\n",
    "plt.show()"
   ]
  }
 ],
 "metadata": {
  "kernelspec": {
   "display_name": "Python 3",
   "language": "python",
   "name": "python3"
  },
  "language_info": {
   "codemirror_mode": {
    "name": "ipython",
    "version": 3
   },
   "file_extension": ".py",
   "mimetype": "text/x-python",
   "name": "python",
   "nbconvert_exporter": "python",
   "pygments_lexer": "ipython3",
   "version": "3.6.7"
  }
 },
 "nbformat": 4,
 "nbformat_minor": 2
}
