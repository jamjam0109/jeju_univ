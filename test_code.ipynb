{
 "cells": [
  {
   "cell_type": "code",
   "execution_count": 5,
   "metadata": {},
   "outputs": [],
   "source": [
    "import pandas as pd \n",
    "import matplotlib.pyplot as plt"
   ]
  },
  {
   "cell_type": "code",
   "execution_count": 29,
   "metadata": {},
   "outputs": [],
   "source": [
    "age_data = pd.read_csv('./data/population_by_age.csv')\n",
    "trend_data = pd.read_csv('./data/population_trend.csv')\n",
    "region_data = pd.read_csv('./data/population_by_region.csv', encoding='CP949')\n",
    "area_data = pd.read_csv('./data/region_area.csv',encoding='CP949')"
   ]
  },
  {
   "cell_type": "markdown",
   "metadata": {},
   "source": [
    "### 1.age 데이터를 활용하여 10대 남자 중 인구수가 많은 순서대로 데이터를 구하는 코드를 작성하세요."
   ]
  },
  {
   "cell_type": "code",
   "execution_count": null,
   "metadata": {},
   "outputs": [],
   "source": []
  },
  {
   "cell_type": "markdown",
   "metadata": {},
   "source": [
    "### 2. age 데이터를 활용하여 20대 여자 중 인구수가 적은 순서대로 5개 데이터를 구하는 코드를 작성하세요."
   ]
  },
  {
   "cell_type": "code",
   "execution_count": null,
   "metadata": {},
   "outputs": [],
   "source": []
  },
  {
   "cell_type": "markdown",
   "metadata": {},
   "source": [
    "### 3. region과 area 데이터를 활용하여 region 대비 총 인구수(인구밀도, 총 인구수 / 지역 면적)를 구하는 코드를 작성하세요.\n"
   ]
  },
  {
   "cell_type": "code",
   "execution_count": null,
   "metadata": {},
   "outputs": [],
   "source": []
  },
  {
   "cell_type": "markdown",
   "metadata": {},
   "source": [
    "### 4. region 데이터를 활용하여 City 별 남, 녀 인구합산 데이터를 구하는 코드를 작성하세요."
   ]
  },
  {
   "cell_type": "code",
   "execution_count": null,
   "metadata": {},
   "outputs": [],
   "source": []
  },
  {
   "cell_type": "markdown",
   "metadata": {},
   "source": [
    "### 5. trend 데이터를 활용하여 한국인 남성, 한국인 여성 인구 추이를 표현하는 차트를 그리세요.\n",
    "* x 축에는 year, y 축에는 population 으로 축 제목을 표시하세요."
   ]
  },
  {
   "cell_type": "code",
   "execution_count": null,
   "metadata": {},
   "outputs": [],
   "source": []
  },
  {
   "cell_type": "markdown",
   "metadata": {},
   "source": [
    "### 6. trend 데이터를 활용하여 연도별 총 인구 수 추이를 포현하는 차트를 그리세요.\n",
    "* x 축에는 year, y 축에는 population 으로 축 제목을 표시하세요."
   ]
  },
  {
   "cell_type": "code",
   "execution_count": null,
   "metadata": {},
   "outputs": [],
   "source": []
  },
  {
   "cell_type": "markdown",
   "metadata": {},
   "source": [
    "### 7. 인구밀도 데이터 중 밀도가 가장 높은 5개지역을 표시하는 차트를 그리세요.\n",
    "\n",
    "* 차트에서 한글이 깨질 경우 아래 코드를 먼저 입력하고 실행해보세요.\n",
    "\n",
    "```\n",
    "import matplotlib as mpl\n",
    "plt.rcParams[\"font.family\"] = 'NanumGothic'\n",
    "```"
   ]
  },
  {
   "cell_type": "code",
   "execution_count": null,
   "metadata": {},
   "outputs": [],
   "source": []
  },
  {
   "cell_type": "markdown",
   "metadata": {},
   "source": [
    "### 8. region과 area 데이터를 활용하여 총 인구수 와 지역 면적을 비교할 수 있는 차트를 그리세요.\n"
   ]
  },
  {
   "cell_type": "code",
   "execution_count": null,
   "metadata": {},
   "outputs": [],
   "source": []
  }
 ],
 "metadata": {
  "kernelspec": {
   "display_name": "Python 3",
   "language": "python",
   "name": "python3"
  },
  "language_info": {
   "codemirror_mode": {
    "name": "ipython",
    "version": 3
   },
   "file_extension": ".py",
   "mimetype": "text/x-python",
   "name": "python",
   "nbconvert_exporter": "python",
   "pygments_lexer": "ipython3",
   "version": "3.6.7"
  }
 },
 "nbformat": 4,
 "nbformat_minor": 2
}
